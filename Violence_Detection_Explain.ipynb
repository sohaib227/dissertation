{
  "cells": [
    {
      "cell_type": "code",
      "execution_count": 1,
      "metadata": {
        "colab": {
          "base_uri": "https://localhost:8080/"
        },
        "id": "Wuh8FIYwQxYo",
        "outputId": "5e6a82b3-2d06-4b79-ae05-e95a5287098b"
      },
      "outputs": [
        {
          "output_type": "stream",
          "name": "stdout",
          "text": [
            "Collecting scikit-video\n",
            "  Downloading scikit_video-1.1.11-py2.py3-none-any.whl.metadata (1.1 kB)\n",
            "Requirement already satisfied: numpy in /usr/local/lib/python3.10/dist-packages (from scikit-video) (1.26.4)\n",
            "Requirement already satisfied: pillow in /usr/local/lib/python3.10/dist-packages (from scikit-video) (9.4.0)\n",
            "Requirement already satisfied: scipy in /usr/local/lib/python3.10/dist-packages (from scikit-video) (1.13.1)\n",
            "Downloading scikit_video-1.1.11-py2.py3-none-any.whl (2.3 MB)\n",
            "\u001b[2K   \u001b[90m━━━━━━━━━━━━━━━━━━━━━━━━━━━━━━━━━━━━━━━━\u001b[0m \u001b[32m2.3/2.3 MB\u001b[0m \u001b[31m17.4 MB/s\u001b[0m eta \u001b[36m0:00:00\u001b[0m\n",
            "\u001b[?25hInstalling collected packages: scikit-video\n",
            "Successfully installed scikit-video-1.1.11\n"
          ]
        }
      ],
      "source": [
        "!pip install scikit-video"
      ]
    },
    {
      "cell_type": "code",
      "execution_count": null,
      "metadata": {
        "id": "6cIfH8AqQ-0n"
      },
      "outputs": [],
      "source": [
        "import numpy as np # linear algebra\n",
        "\n",
        "import pandas as pd # data processing, CSV file I/O (e.g. pd.read_csv)\n",
        "import seaborn as sns\n",
        "import matplotlib.pyplot as plt\n",
        "import skvideo.io\n",
        "import os\n",
        "import cv2\n",
        "\n",
        "from sklearn.model_selection import train_test_split\n",
        "from sklearn.metrics import confusion_matrix\n",
        "\n",
        "import io\n",
        "import imageio\n",
        "import ipywidgets\n",
        "import tensorflow as tf\n",
        "from tensorflow import keras\n",
        "from tensorflow.keras import layers\n",
        "from keras import backend as K\n",
        "from sklearn.utils import shuffle\n",
        "import matplotlib.pyplot as plt\n"
      ]
    },
    {
      "cell_type": "code",
      "execution_count": null,
      "metadata": {
        "colab": {
          "base_uri": "https://localhost:8080/"
        },
        "id": "YOi9nWQSRCS1",
        "outputId": "b60a2c2b-e6f4-40f3-8cf2-2002991c7587"
      },
      "outputs": [
        {
          "output_type": "stream",
          "name": "stdout",
          "text": [
            "Cloning into 'fight-detection-surv-dataset'...\n",
            "remote: Enumerating objects: 340, done.\u001b[K\n",
            "remote: Total 340 (delta 0), reused 0 (delta 0), pack-reused 340\u001b[K\n",
            "Receiving objects: 100% (340/340), 84.35 MiB | 30.88 MiB/s, done.\n",
            "Resolving deltas: 100% (11/11), done.\n"
          ]
        }
      ],
      "source": [
        "!git clone https://github.com/seymanurakti/fight-detection-surv-dataset.git"
      ]
    },
    {
      "cell_type": "code",
      "execution_count": null,
      "metadata": {
        "id": "uXgNwDWMRFEI"
      },
      "outputs": [],
      "source": [
        "\n",
        "np.float = np.float64\n",
        "np.int = np.int_"
      ]
    },
    {
      "cell_type": "code",
      "execution_count": null,
      "metadata": {
        "id": "SSJNt9IBRL-p"
      },
      "outputs": [],
      "source": [
        "def frame_crop_center(video,cropf):\n",
        "    f,_,_,_ = video.shape\n",
        "    startf = f//2 - cropf//2\n",
        "    return video[startf:startf+cropf, :, :, :]\n",
        "\n",
        "fights=[]\n",
        "nofights=[]\n",
        "\n",
        "surv_fights=[]\n",
        "surv_no_fights=[]\n",
        "\n",
        "video_dims = []\n",
        "\n",
        "####### Fight data\n",
        "for filename in os.listdir('/content/fight-detection-surv-dataset/fight'):\n",
        "    f = os.path.join('/content/fight-detection-surv-dataset/fight', filename)\n",
        "    # checking if it is a file\n",
        "    video = skvideo.io.vread(f)\n",
        "    video_dims.append(video.shape)\n",
        "    L=[]\n",
        "\n",
        "    #resize video dimensions\n",
        "    for i in range(video.shape[0]):\n",
        "      frame = cv2.resize(video[i], (128,128), interpolation=cv2.INTER_CUBIC)\n",
        "      L.append(frame)\n",
        "\n",
        "    video = np.asarray(L)\n",
        "\n",
        "    #center crop video to have consistent video frame number\n",
        "    video = frame_crop_center(video, 42)\n",
        "\n",
        "    fights.append(video)\n",
        "\n",
        "for filename in os.listdir('/content/fight-detection-surv-dataset/fight'):\n",
        "    f = os.path.join('/content/fight-detection-surv-dataset/fight', filename)\n",
        "    # checking if it is a file\n",
        "    video = skvideo.io.vread(f)\n",
        "    video_dims.append(video.shape)\n",
        "\n",
        "    L=[]\n",
        "    for i in range(video.shape[0]):\n",
        "      frame = cv2.resize(video[i], (128,128), interpolation=cv2.INTER_CUBIC)\n",
        "      L.append(frame)\n",
        "\n",
        "    video = np.asarray(L)\n",
        "    video = frame_crop_center(video, 42)\n",
        "\n",
        "    surv_fights.append(video)\n",
        "\n",
        "####### Non Fight data\n",
        "for filename in os.listdir('/content/fight-detection-surv-dataset/noFight'):\n",
        "    f = os.path.join('/content/fight-detection-surv-dataset/noFight', filename)\n",
        "    # checking if it is a file\n",
        "    video = skvideo.io.vread(f)\n",
        "    video_dims.append(video.shape)\n",
        "\n",
        "    L=[]\n",
        "    for i in range(video.shape[0]):\n",
        "      frame = cv2.resize(video[i], (128,128), interpolation=cv2.INTER_CUBIC)\n",
        "      L.append(frame)\n",
        "\n",
        "    video = np.asarray(L)\n",
        "    video = frame_crop_center(video, 42)\n",
        "\n",
        "    nofights.append(video)\n",
        "\n",
        "for filename in os.listdir('/content/fight-detection-surv-dataset/noFight'):\n",
        "    f = os.path.join('/content/fight-detection-surv-dataset/noFight', filename)\n",
        "    # checking if it is a file\n",
        "    video = skvideo.io.vread(f)\n",
        "    video_dims.append(video.shape)\n",
        "\n",
        "    L=[]\n",
        "    for i in range(video.shape[0]):\n",
        "      frame = cv2.resize(video[i], (128,128), interpolation=cv2.INTER_CUBIC)\n",
        "      L.append(frame)\n",
        "\n",
        "    video = np.asarray(L)\n",
        "    video = frame_crop_center(video, 42)\n",
        "\n",
        "    surv_no_fights.append(video)"
      ]
    },
    {
      "cell_type": "code",
      "execution_count": null,
      "metadata": {
        "colab": {
          "base_uri": "https://localhost:8080/",
          "height": 297
        },
        "id": "i7A6mC6ZRNQk",
        "outputId": "0dc29d2d-2b72-41cc-8edf-048bb5637e7c"
      },
      "outputs": [
        {
          "output_type": "execute_result",
          "data": {
            "text/plain": [
              "       frame_length       height        width  channels\n",
              "count    600.000000   600.000000   600.000000     600.0\n",
              "mean      57.066667   467.466667   789.006667       3.0\n",
              "std       15.919525   200.363098   382.745499       0.0\n",
              "min       20.000000   216.000000   320.000000       3.0\n",
              "25%       50.000000   360.000000   480.000000       3.0\n",
              "50%       60.000000   360.000000   640.000000       3.0\n",
              "75%       60.000000   720.000000  1280.000000       3.0\n",
              "max      142.000000  1080.000000  1920.000000       3.0"
            ],
            "text/html": [
              "\n",
              "  <div id=\"df-78a959c5-59c9-46bd-8817-afcaec23ff92\" class=\"colab-df-container\">\n",
              "    <div>\n",
              "<style scoped>\n",
              "    .dataframe tbody tr th:only-of-type {\n",
              "        vertical-align: middle;\n",
              "    }\n",
              "\n",
              "    .dataframe tbody tr th {\n",
              "        vertical-align: top;\n",
              "    }\n",
              "\n",
              "    .dataframe thead th {\n",
              "        text-align: right;\n",
              "    }\n",
              "</style>\n",
              "<table border=\"1\" class=\"dataframe\">\n",
              "  <thead>\n",
              "    <tr style=\"text-align: right;\">\n",
              "      <th></th>\n",
              "      <th>frame_length</th>\n",
              "      <th>height</th>\n",
              "      <th>width</th>\n",
              "      <th>channels</th>\n",
              "    </tr>\n",
              "  </thead>\n",
              "  <tbody>\n",
              "    <tr>\n",
              "      <th>count</th>\n",
              "      <td>600.000000</td>\n",
              "      <td>600.000000</td>\n",
              "      <td>600.000000</td>\n",
              "      <td>600.0</td>\n",
              "    </tr>\n",
              "    <tr>\n",
              "      <th>mean</th>\n",
              "      <td>57.066667</td>\n",
              "      <td>467.466667</td>\n",
              "      <td>789.006667</td>\n",
              "      <td>3.0</td>\n",
              "    </tr>\n",
              "    <tr>\n",
              "      <th>std</th>\n",
              "      <td>15.919525</td>\n",
              "      <td>200.363098</td>\n",
              "      <td>382.745499</td>\n",
              "      <td>0.0</td>\n",
              "    </tr>\n",
              "    <tr>\n",
              "      <th>min</th>\n",
              "      <td>20.000000</td>\n",
              "      <td>216.000000</td>\n",
              "      <td>320.000000</td>\n",
              "      <td>3.0</td>\n",
              "    </tr>\n",
              "    <tr>\n",
              "      <th>25%</th>\n",
              "      <td>50.000000</td>\n",
              "      <td>360.000000</td>\n",
              "      <td>480.000000</td>\n",
              "      <td>3.0</td>\n",
              "    </tr>\n",
              "    <tr>\n",
              "      <th>50%</th>\n",
              "      <td>60.000000</td>\n",
              "      <td>360.000000</td>\n",
              "      <td>640.000000</td>\n",
              "      <td>3.0</td>\n",
              "    </tr>\n",
              "    <tr>\n",
              "      <th>75%</th>\n",
              "      <td>60.000000</td>\n",
              "      <td>720.000000</td>\n",
              "      <td>1280.000000</td>\n",
              "      <td>3.0</td>\n",
              "    </tr>\n",
              "    <tr>\n",
              "      <th>max</th>\n",
              "      <td>142.000000</td>\n",
              "      <td>1080.000000</td>\n",
              "      <td>1920.000000</td>\n",
              "      <td>3.0</td>\n",
              "    </tr>\n",
              "  </tbody>\n",
              "</table>\n",
              "</div>\n",
              "    <div class=\"colab-df-buttons\">\n",
              "\n",
              "  <div class=\"colab-df-container\">\n",
              "    <button class=\"colab-df-convert\" onclick=\"convertToInteractive('df-78a959c5-59c9-46bd-8817-afcaec23ff92')\"\n",
              "            title=\"Convert this dataframe to an interactive table.\"\n",
              "            style=\"display:none;\">\n",
              "\n",
              "  <svg xmlns=\"http://www.w3.org/2000/svg\" height=\"24px\" viewBox=\"0 -960 960 960\">\n",
              "    <path d=\"M120-120v-720h720v720H120Zm60-500h600v-160H180v160Zm220 220h160v-160H400v160Zm0 220h160v-160H400v160ZM180-400h160v-160H180v160Zm440 0h160v-160H620v160ZM180-180h160v-160H180v160Zm440 0h160v-160H620v160Z\"/>\n",
              "  </svg>\n",
              "    </button>\n",
              "\n",
              "  <style>\n",
              "    .colab-df-container {\n",
              "      display:flex;\n",
              "      gap: 12px;\n",
              "    }\n",
              "\n",
              "    .colab-df-convert {\n",
              "      background-color: #E8F0FE;\n",
              "      border: none;\n",
              "      border-radius: 50%;\n",
              "      cursor: pointer;\n",
              "      display: none;\n",
              "      fill: #1967D2;\n",
              "      height: 32px;\n",
              "      padding: 0 0 0 0;\n",
              "      width: 32px;\n",
              "    }\n",
              "\n",
              "    .colab-df-convert:hover {\n",
              "      background-color: #E2EBFA;\n",
              "      box-shadow: 0px 1px 2px rgba(60, 64, 67, 0.3), 0px 1px 3px 1px rgba(60, 64, 67, 0.15);\n",
              "      fill: #174EA6;\n",
              "    }\n",
              "\n",
              "    .colab-df-buttons div {\n",
              "      margin-bottom: 4px;\n",
              "    }\n",
              "\n",
              "    [theme=dark] .colab-df-convert {\n",
              "      background-color: #3B4455;\n",
              "      fill: #D2E3FC;\n",
              "    }\n",
              "\n",
              "    [theme=dark] .colab-df-convert:hover {\n",
              "      background-color: #434B5C;\n",
              "      box-shadow: 0px 1px 3px 1px rgba(0, 0, 0, 0.15);\n",
              "      filter: drop-shadow(0px 1px 2px rgba(0, 0, 0, 0.3));\n",
              "      fill: #FFFFFF;\n",
              "    }\n",
              "  </style>\n",
              "\n",
              "    <script>\n",
              "      const buttonEl =\n",
              "        document.querySelector('#df-78a959c5-59c9-46bd-8817-afcaec23ff92 button.colab-df-convert');\n",
              "      buttonEl.style.display =\n",
              "        google.colab.kernel.accessAllowed ? 'block' : 'none';\n",
              "\n",
              "      async function convertToInteractive(key) {\n",
              "        const element = document.querySelector('#df-78a959c5-59c9-46bd-8817-afcaec23ff92');\n",
              "        const dataTable =\n",
              "          await google.colab.kernel.invokeFunction('convertToInteractive',\n",
              "                                                    [key], {});\n",
              "        if (!dataTable) return;\n",
              "\n",
              "        const docLinkHtml = 'Like what you see? Visit the ' +\n",
              "          '<a target=\"_blank\" href=https://colab.research.google.com/notebooks/data_table.ipynb>data table notebook</a>'\n",
              "          + ' to learn more about interactive tables.';\n",
              "        element.innerHTML = '';\n",
              "        dataTable['output_type'] = 'display_data';\n",
              "        await google.colab.output.renderOutput(dataTable, element);\n",
              "        const docLink = document.createElement('div');\n",
              "        docLink.innerHTML = docLinkHtml;\n",
              "        element.appendChild(docLink);\n",
              "      }\n",
              "    </script>\n",
              "  </div>\n",
              "\n",
              "\n",
              "<div id=\"df-285eb87c-463c-4ca4-882f-98c47e324752\">\n",
              "  <button class=\"colab-df-quickchart\" onclick=\"quickchart('df-285eb87c-463c-4ca4-882f-98c47e324752')\"\n",
              "            title=\"Suggest charts\"\n",
              "            style=\"display:none;\">\n",
              "\n",
              "<svg xmlns=\"http://www.w3.org/2000/svg\" height=\"24px\"viewBox=\"0 0 24 24\"\n",
              "     width=\"24px\">\n",
              "    <g>\n",
              "        <path d=\"M19 3H5c-1.1 0-2 .9-2 2v14c0 1.1.9 2 2 2h14c1.1 0 2-.9 2-2V5c0-1.1-.9-2-2-2zM9 17H7v-7h2v7zm4 0h-2V7h2v10zm4 0h-2v-4h2v4z\"/>\n",
              "    </g>\n",
              "</svg>\n",
              "  </button>\n",
              "\n",
              "<style>\n",
              "  .colab-df-quickchart {\n",
              "      --bg-color: #E8F0FE;\n",
              "      --fill-color: #1967D2;\n",
              "      --hover-bg-color: #E2EBFA;\n",
              "      --hover-fill-color: #174EA6;\n",
              "      --disabled-fill-color: #AAA;\n",
              "      --disabled-bg-color: #DDD;\n",
              "  }\n",
              "\n",
              "  [theme=dark] .colab-df-quickchart {\n",
              "      --bg-color: #3B4455;\n",
              "      --fill-color: #D2E3FC;\n",
              "      --hover-bg-color: #434B5C;\n",
              "      --hover-fill-color: #FFFFFF;\n",
              "      --disabled-bg-color: #3B4455;\n",
              "      --disabled-fill-color: #666;\n",
              "  }\n",
              "\n",
              "  .colab-df-quickchart {\n",
              "    background-color: var(--bg-color);\n",
              "    border: none;\n",
              "    border-radius: 50%;\n",
              "    cursor: pointer;\n",
              "    display: none;\n",
              "    fill: var(--fill-color);\n",
              "    height: 32px;\n",
              "    padding: 0;\n",
              "    width: 32px;\n",
              "  }\n",
              "\n",
              "  .colab-df-quickchart:hover {\n",
              "    background-color: var(--hover-bg-color);\n",
              "    box-shadow: 0 1px 2px rgba(60, 64, 67, 0.3), 0 1px 3px 1px rgba(60, 64, 67, 0.15);\n",
              "    fill: var(--button-hover-fill-color);\n",
              "  }\n",
              "\n",
              "  .colab-df-quickchart-complete:disabled,\n",
              "  .colab-df-quickchart-complete:disabled:hover {\n",
              "    background-color: var(--disabled-bg-color);\n",
              "    fill: var(--disabled-fill-color);\n",
              "    box-shadow: none;\n",
              "  }\n",
              "\n",
              "  .colab-df-spinner {\n",
              "    border: 2px solid var(--fill-color);\n",
              "    border-color: transparent;\n",
              "    border-bottom-color: var(--fill-color);\n",
              "    animation:\n",
              "      spin 1s steps(1) infinite;\n",
              "  }\n",
              "\n",
              "  @keyframes spin {\n",
              "    0% {\n",
              "      border-color: transparent;\n",
              "      border-bottom-color: var(--fill-color);\n",
              "      border-left-color: var(--fill-color);\n",
              "    }\n",
              "    20% {\n",
              "      border-color: transparent;\n",
              "      border-left-color: var(--fill-color);\n",
              "      border-top-color: var(--fill-color);\n",
              "    }\n",
              "    30% {\n",
              "      border-color: transparent;\n",
              "      border-left-color: var(--fill-color);\n",
              "      border-top-color: var(--fill-color);\n",
              "      border-right-color: var(--fill-color);\n",
              "    }\n",
              "    40% {\n",
              "      border-color: transparent;\n",
              "      border-right-color: var(--fill-color);\n",
              "      border-top-color: var(--fill-color);\n",
              "    }\n",
              "    60% {\n",
              "      border-color: transparent;\n",
              "      border-right-color: var(--fill-color);\n",
              "    }\n",
              "    80% {\n",
              "      border-color: transparent;\n",
              "      border-right-color: var(--fill-color);\n",
              "      border-bottom-color: var(--fill-color);\n",
              "    }\n",
              "    90% {\n",
              "      border-color: transparent;\n",
              "      border-bottom-color: var(--fill-color);\n",
              "    }\n",
              "  }\n",
              "</style>\n",
              "\n",
              "  <script>\n",
              "    async function quickchart(key) {\n",
              "      const quickchartButtonEl =\n",
              "        document.querySelector('#' + key + ' button');\n",
              "      quickchartButtonEl.disabled = true;  // To prevent multiple clicks.\n",
              "      quickchartButtonEl.classList.add('colab-df-spinner');\n",
              "      try {\n",
              "        const charts = await google.colab.kernel.invokeFunction(\n",
              "            'suggestCharts', [key], {});\n",
              "      } catch (error) {\n",
              "        console.error('Error during call to suggestCharts:', error);\n",
              "      }\n",
              "      quickchartButtonEl.classList.remove('colab-df-spinner');\n",
              "      quickchartButtonEl.classList.add('colab-df-quickchart-complete');\n",
              "    }\n",
              "    (() => {\n",
              "      let quickchartButtonEl =\n",
              "        document.querySelector('#df-285eb87c-463c-4ca4-882f-98c47e324752 button');\n",
              "      quickchartButtonEl.style.display =\n",
              "        google.colab.kernel.accessAllowed ? 'block' : 'none';\n",
              "    })();\n",
              "  </script>\n",
              "</div>\n",
              "    </div>\n",
              "  </div>\n"
            ],
            "application/vnd.google.colaboratory.intrinsic+json": {
              "type": "dataframe",
              "summary": "{\n  \"name\": \"data\",\n  \"rows\": 8,\n  \"fields\": [\n    {\n      \"column\": \"frame_length\",\n      \"properties\": {\n        \"dtype\": \"number\",\n        \"std\": 195.4936535519168,\n        \"min\": 15.919524940968948,\n        \"max\": 600.0,\n        \"num_unique_values\": 7,\n        \"samples\": [\n          600.0,\n          57.06666666666667,\n          60.0\n        ],\n        \"semantic_type\": \"\",\n        \"description\": \"\"\n      }\n    },\n    {\n      \"column\": \"height\",\n      \"properties\": {\n        \"dtype\": \"number\",\n        \"std\": 294.1075743985073,\n        \"min\": 200.3630983344468,\n        \"max\": 1080.0,\n        \"num_unique_values\": 7,\n        \"samples\": [\n          600.0,\n          467.46666666666664,\n          720.0\n        ],\n        \"semantic_type\": \"\",\n        \"description\": \"\"\n      }\n    },\n    {\n      \"column\": \"width\",\n      \"properties\": {\n        \"dtype\": \"number\",\n        \"std\": 542.1392688775121,\n        \"min\": 320.0,\n        \"max\": 1920.0,\n        \"num_unique_values\": 8,\n        \"samples\": [\n          789.0066666666667,\n          640.0,\n          600.0\n        ],\n        \"semantic_type\": \"\",\n        \"description\": \"\"\n      }\n    },\n    {\n      \"column\": \"channels\",\n      \"properties\": {\n        \"dtype\": \"number\",\n        \"std\": 211.22550576508104,\n        \"min\": 0.0,\n        \"max\": 600.0,\n        \"num_unique_values\": 3,\n        \"samples\": [\n          600.0,\n          3.0,\n          0.0\n        ],\n        \"semantic_type\": \"\",\n        \"description\": \"\"\n      }\n    }\n  ]\n}"
            }
          },
          "metadata": {},
          "execution_count": 6
        }
      ],
      "source": [
        "data= pd.DataFrame(video_dims, columns=['frame_length', 'height', 'width', 'channels'])\n",
        "data.describe()"
      ]
    },
    {
      "cell_type": "code",
      "execution_count": null,
      "metadata": {
        "id": "EfxPdluORPxW"
      },
      "outputs": [],
      "source": [
        "surv_fights = [video for video in surv_fights if video.shape[0] == 42]\n",
        "surv_no_fights = [video for video in surv_no_fights if video.shape[0] == 42]\n",
        "\n",
        "fights = [video for video in fights if video.shape[0] == 42]\n",
        "nofights = [video for video in nofights if video.shape[0] == 42]\n",
        "videos = fights + surv_fights + nofights + surv_no_fights\n",
        "videos = np.asarray(videos)\n",
        "\n",
        "labels = np.concatenate([np.ones(len(fights)+len(surv_fights)) , np.zeros(len(nofights)+len(surv_no_fights))])"
      ]
    },
    {
      "cell_type": "code",
      "execution_count": null,
      "metadata": {
        "id": "EVBGan91RSMw"
      },
      "outputs": [],
      "source": [
        "del fights\n",
        "del nofights\n",
        "del surv_fights\n",
        "del surv_no_fights"
      ]
    },
    {
      "cell_type": "code",
      "execution_count": null,
      "metadata": {
        "colab": {
          "base_uri": "https://localhost:8080/"
        },
        "id": "dOd7pbzURUZM",
        "outputId": "78588522-4bdd-49c0-95f4-c90c0e04de1b"
      },
      "outputs": [
        {
          "output_type": "stream",
          "name": "stdout",
          "text": [
            "(374, 42, 128, 128, 3)\n",
            "(42, 42, 128, 128, 3)\n",
            "(104, 42, 128, 128, 3)\n"
          ]
        }
      ],
      "source": [
        "X_train, X_test, y_train, y_test = train_test_split(videos, labels, test_size=0.2, random_state=2334)\n",
        "X_train, X_val, y_train, y_val = train_test_split(X_train, y_train, test_size=0.1, random_state=124567)\n",
        "\n",
        "print(X_train.shape)\n",
        "print(X_val.shape)\n",
        "print(X_test.shape)"
      ]
    },
    {
      "cell_type": "code",
      "execution_count": null,
      "metadata": {
        "id": "xqiuHX1KgF2A"
      },
      "outputs": [],
      "source": [
        "# Setting seed for reproducibility\n",
        "SEED = 77\n",
        "os.environ[\"TF_CUDNN_DETERMINISTIC\"] = \"1\"\n",
        "tf.random.set_seed(SEED)\n",
        "\n",
        "# DATA\n",
        "DATASET_NAME = \"fight/nofights\"\n",
        "BATCH_SIZE = 4\n",
        "AUTO = tf.data.AUTOTUNE\n",
        "INPUT_SHAPE = (42, 128, 128, 3)\n",
        "NUM_CLASSES = 2\n",
        "\n",
        "# OPTIMIZER\n",
        "LEARNING_RATE = 1e-3\n",
        "WEIGHT_DECAY = 1e-5\n",
        "\n",
        "# TRAINING\n",
        "EPOCHS = 100\n",
        "\n",
        "# TUBELET EMBEDDING\n",
        "PATCH_SIZE = (8, 8, 8)\n",
        "NUM_PATCHES = (INPUT_SHAPE[0] // PATCH_SIZE[0]) ** 2\n",
        "\n",
        "# ViViT ARCHITECTURE\n",
        "LAYER_NORM_EPS = 1e-6\n",
        "PROJECTION_DIM = 64\n",
        "NUM_HEADS = 2\n",
        "NUM_LAYERS = 2"
      ]
    },
    {
      "cell_type": "code",
      "execution_count": null,
      "metadata": {
        "id": "i3JtnyqA3y6S"
      },
      "outputs": [],
      "source": [
        "@tf.function\n",
        "def preprocess(frames: tf.Tensor, label: tf.Tensor):\n",
        "    \"\"\"Preprocess the frames tensors and parse the labels\"\"\"\n",
        "    # Preprocess images\n",
        "    frames = tf.image.convert_image_dtype(\n",
        "        frames[\n",
        "            ..., tf.newaxis\n",
        "        ],  # The new axis is to help for further processing with Conv3D layers\n",
        "        tf.float32,\n",
        "    )\n",
        "\n",
        "    # Parse label\n",
        "    label = tf.cast(label, tf.float32)\n",
        "    return frames, label\n",
        "\n",
        "\n",
        "def prepare_dataloader(\n",
        "    videos: np.ndarray,\n",
        "    labels: np.ndarray,\n",
        "    loader_type: str = \"train\",\n",
        "    batch_size: int = BATCH_SIZE,\n",
        "):\n",
        "    \"\"\"Utility function to prepare dataloader\"\"\"\n",
        "    dataset = tf.data.Dataset.from_tensor_slices((videos, labels))\n",
        "\n",
        "    if loader_type == \"train\":\n",
        "        dataset = dataset.shuffle(BATCH_SIZE * 2)\n",
        "\n",
        "    dataloader = (\n",
        "        dataset.map(preprocess, num_parallel_calls=tf.data.AUTOTUNE)\n",
        "        .batch(batch_size)\n",
        "        .prefetch(tf.data.AUTOTUNE)\n",
        "    )\n",
        "\n",
        "    return dataloader\n",
        "\n",
        "X_train_shuffled, y_train_shuffled = shuffle(X_train, y_train)\n",
        "trainloader = prepare_dataloader(X_train_shuffled, y_train_shuffled, \"train\")\n",
        "validloader = prepare_dataloader(X_val, y_val, \"valid\")\n",
        "testloader = prepare_dataloader(X_test, y_test, \"test\")"
      ]
    },
    {
      "cell_type": "code",
      "execution_count": null,
      "metadata": {
        "id": "qyvbuT5837Hm"
      },
      "outputs": [],
      "source": [
        "class TubeletEmbedding(layers.Layer):\n",
        "    def __init__(self, embed_dim, patch_size, **kwargs):\n",
        "        super().__init__(**kwargs)\n",
        "        self.projection = layers.Conv3D(\n",
        "            filters=embed_dim,\n",
        "            kernel_size=patch_size,\n",
        "            strides=patch_size,\n",
        "            padding=\"VALID\",\n",
        "        )\n",
        "        self.flatten = layers.Reshape(target_shape=(-1, embed_dim))\n",
        "\n",
        "    def call(self, videos):\n",
        "        projected_patches = self.projection(videos)\n",
        "        flattened_patches = self.flatten(projected_patches)\n",
        "        return flattened_patches\n",
        "\n",
        "class PositionalEncoder(layers.Layer):\n",
        "    def __init__(self, embed_dim, **kwargs):\n",
        "        super().__init__(**kwargs)\n",
        "        self.embed_dim = embed_dim\n",
        "\n",
        "    def build(self, input_shape):\n",
        "        _, num_tokens, _ = input_shape\n",
        "        self.position_embedding = layers.Embedding(\n",
        "            input_dim=num_tokens, output_dim=self.embed_dim\n",
        "        )\n",
        "        self.positions = tf.range(start=0, limit=num_tokens, delta=1)\n",
        "\n",
        "    def call(self, encoded_tokens):\n",
        "        # Encode the positions and add it to the encoded tokens\n",
        "        encoded_positions = self.position_embedding(self.positions)\n",
        "        encoded_tokens = encoded_tokens + encoded_positions\n",
        "        return encoded_tokens"
      ]
    },
    {
      "cell_type": "code",
      "execution_count": null,
      "metadata": {
        "id": "_R_EiTOI3-5T"
      },
      "outputs": [],
      "source": [
        "\n",
        "weights = {}\n",
        "def create_vivit_classifier(\n",
        "    tubelet_embedder,\n",
        "    positional_encoder,\n",
        "    input_shape=INPUT_SHAPE,\n",
        "    transformer_layers=NUM_LAYERS,\n",
        "    num_heads=NUM_HEADS,\n",
        "    embed_dim=PROJECTION_DIM,\n",
        "    layer_norm_eps=LAYER_NORM_EPS,\n",
        "    num_classes=NUM_CLASSES,\n",
        "):\n",
        "    # Get the input layer\n",
        "    inputs = layers.Input(shape=input_shape)\n",
        "    # Create patches.\n",
        "    patches = tubelet_embedder(inputs)\n",
        "    # Encode patches.\n",
        "    encoded_patches = positional_encoder(patches)\n",
        "\n",
        "    # Create multiple layers of the Transformer block.\n",
        "    for _ in range(transformer_layers):\n",
        "        # Layer normalization and MHSA\n",
        "        x1 = layers.LayerNormalization(epsilon=1e-6)(encoded_patches)\n",
        "        attention_output, weights['attention_score'] = layers.MultiHeadAttention(\n",
        "            num_heads=num_heads, key_dim=embed_dim // num_heads, dropout=0.1\n",
        "        )(x1, x1,return_attention_scores=True)\n",
        "\n",
        "        # Skip connection\n",
        "        x2 = layers.Add()([attention_output, encoded_patches])\n",
        "\n",
        "        # Layer Normalization and MLP\n",
        "        x3 = layers.LayerNormalization(epsilon=1e-6)(x2)\n",
        "        x3 = keras.Sequential(\n",
        "            [\n",
        "                layers.Dense(units=embed_dim * 4, activation=tf.nn.gelu),\n",
        "                layers.Dense(units=embed_dim, activation=tf.nn.gelu),\n",
        "            ]\n",
        "        )(x3)\n",
        "\n",
        "        # Skip connection\n",
        "        encoded_patches = layers.Add()([x3, x2])\n",
        "\n",
        "    # Layer normalization and Global average pooling.\n",
        "    representation = layers.LayerNormalization(epsilon=layer_norm_eps)(encoded_patches)\n",
        "    representation = layers.GlobalAvgPool1D()(representation)\n",
        "\n",
        "    # Classify outputs.\n",
        "    outputs = layers.Dense(units=num_classes, activation=\"softmax\")(representation)\n",
        "\n",
        "    # Create the Keras model.\n",
        "    model = keras.Model(inputs=inputs, outputs=outputs)\n",
        "    return model"
      ]
    },
    {
      "cell_type": "code",
      "execution_count": null,
      "metadata": {
        "colab": {
          "base_uri": "https://localhost:8080/",
          "height": 1000
        },
        "id": "_MN2uCm94Du7",
        "outputId": "08b919b3-d197-4d00-d38d-0496ded150f9"
      },
      "outputs": [
        {
          "output_type": "stream",
          "name": "stdout",
          "text": [
            "Epoch 1/100\n",
            "94/94 [==============================] - 15s 46ms/step - loss: 0.7548 - accuracy: 0.5214 - recall_m: 0.9894 - precision_m: 0.5426 - f1_m: 0.6786 - val_loss: 0.6927 - val_accuracy: 0.5000 - val_recall_m: 0.9091 - val_precision_m: 0.5455 - val_f1_m: 0.6528\n",
            "Epoch 2/100\n",
            "94/94 [==============================] - 4s 40ms/step - loss: 0.7127 - accuracy: 0.5027 - recall_m: 0.9681 - precision_m: 0.5399 - f1_m: 0.6672 - val_loss: 0.7165 - val_accuracy: 0.4524 - val_recall_m: 0.9091 - val_precision_m: 0.5455 - val_f1_m: 0.6528\n",
            "Epoch 3/100\n",
            "94/94 [==============================] - 4s 40ms/step - loss: 0.7014 - accuracy: 0.5401 - recall_m: 0.9681 - precision_m: 0.5399 - f1_m: 0.6729 - val_loss: 0.6884 - val_accuracy: 0.5476 - val_recall_m: 0.9091 - val_precision_m: 0.5455 - val_f1_m: 0.6528\n",
            "Epoch 4/100\n",
            "94/94 [==============================] - 4s 43ms/step - loss: 0.7072 - accuracy: 0.5374 - recall_m: 0.9468 - precision_m: 0.5399 - f1_m: 0.6647 - val_loss: 0.6908 - val_accuracy: 0.5476 - val_recall_m: 0.9091 - val_precision_m: 0.5455 - val_f1_m: 0.6528\n",
            "Epoch 5/100\n",
            "94/94 [==============================] - 4s 40ms/step - loss: 0.7086 - accuracy: 0.5374 - recall_m: 0.9468 - precision_m: 0.5399 - f1_m: 0.6657 - val_loss: 0.6770 - val_accuracy: 0.6190 - val_recall_m: 0.9091 - val_precision_m: 0.5455 - val_f1_m: 0.6528\n",
            "Epoch 6/100\n",
            "94/94 [==============================] - 4s 41ms/step - loss: 0.6856 - accuracy: 0.5802 - recall_m: 0.9468 - precision_m: 0.5399 - f1_m: 0.6619 - val_loss: 0.6886 - val_accuracy: 0.5476 - val_recall_m: 0.9091 - val_precision_m: 0.5455 - val_f1_m: 0.6528\n",
            "Epoch 7/100\n",
            "94/94 [==============================] - 4s 40ms/step - loss: 0.6767 - accuracy: 0.5561 - recall_m: 0.9787 - precision_m: 0.5426 - f1_m: 0.6701 - val_loss: 0.6687 - val_accuracy: 0.5714 - val_recall_m: 0.9091 - val_precision_m: 0.5455 - val_f1_m: 0.6528\n",
            "Epoch 8/100\n",
            "94/94 [==============================] - 4s 39ms/step - loss: 0.6778 - accuracy: 0.5775 - recall_m: 0.9468 - precision_m: 0.5372 - f1_m: 0.6625 - val_loss: 0.6941 - val_accuracy: 0.5238 - val_recall_m: 0.9091 - val_precision_m: 0.5455 - val_f1_m: 0.6528\n",
            "Epoch 9/100\n",
            "94/94 [==============================] - 4s 42ms/step - loss: 0.6822 - accuracy: 0.5668 - recall_m: 0.9255 - precision_m: 0.5372 - f1_m: 0.6551 - val_loss: 0.6834 - val_accuracy: 0.5238 - val_recall_m: 0.9091 - val_precision_m: 0.5455 - val_f1_m: 0.6528\n",
            "Epoch 10/100\n",
            "94/94 [==============================] - 4s 40ms/step - loss: 0.6658 - accuracy: 0.5829 - recall_m: 0.9362 - precision_m: 0.5426 - f1_m: 0.6620 - val_loss: 0.6656 - val_accuracy: 0.5714 - val_recall_m: 0.9091 - val_precision_m: 0.5455 - val_f1_m: 0.6528\n",
            "Epoch 11/100\n",
            "94/94 [==============================] - 4s 41ms/step - loss: 0.6605 - accuracy: 0.5615 - recall_m: 0.9787 - precision_m: 0.5426 - f1_m: 0.6713 - val_loss: 0.6193 - val_accuracy: 0.5714 - val_recall_m: 0.9091 - val_precision_m: 0.5455 - val_f1_m: 0.6528\n",
            "Epoch 12/100\n",
            "94/94 [==============================] - 4s 44ms/step - loss: 0.6505 - accuracy: 0.5695 - recall_m: 0.9681 - precision_m: 0.5399 - f1_m: 0.6684 - val_loss: 0.6109 - val_accuracy: 0.6190 - val_recall_m: 0.9091 - val_precision_m: 0.5455 - val_f1_m: 0.6528\n",
            "Epoch 13/100\n",
            "94/94 [==============================] - 4s 40ms/step - loss: 0.6490 - accuracy: 0.5722 - recall_m: 0.9681 - precision_m: 0.5399 - f1_m: 0.6640 - val_loss: 0.6215 - val_accuracy: 0.5952 - val_recall_m: 0.9091 - val_precision_m: 0.5455 - val_f1_m: 0.6528\n",
            "Epoch 14/100\n",
            "94/94 [==============================] - 4s 40ms/step - loss: 0.6421 - accuracy: 0.6043 - recall_m: 0.9468 - precision_m: 0.5399 - f1_m: 0.6614 - val_loss: 0.6208 - val_accuracy: 0.5952 - val_recall_m: 0.9091 - val_precision_m: 0.5455 - val_f1_m: 0.6528\n",
            "Epoch 15/100\n",
            "94/94 [==============================] - 4s 42ms/step - loss: 0.6229 - accuracy: 0.6150 - recall_m: 0.9787 - precision_m: 0.5426 - f1_m: 0.6711 - val_loss: 0.9521 - val_accuracy: 0.5714 - val_recall_m: 0.9091 - val_precision_m: 0.5455 - val_f1_m: 0.6528\n",
            "Epoch 16/100\n",
            "94/94 [==============================] - 4s 40ms/step - loss: 0.6628 - accuracy: 0.6096 - recall_m: 0.9681 - precision_m: 0.5372 - f1_m: 0.6648 - val_loss: 0.6821 - val_accuracy: 0.5714 - val_recall_m: 0.9091 - val_precision_m: 0.5455 - val_f1_m: 0.6528\n",
            "Epoch 17/100\n",
            "94/94 [==============================] - 4s 42ms/step - loss: 0.6370 - accuracy: 0.6123 - recall_m: 0.9255 - precision_m: 0.5399 - f1_m: 0.6576 - val_loss: 0.7278 - val_accuracy: 0.5952 - val_recall_m: 0.9091 - val_precision_m: 0.5455 - val_f1_m: 0.6528\n",
            "Epoch 18/100\n",
            "94/94 [==============================] - 4s 40ms/step - loss: 0.6087 - accuracy: 0.6684 - recall_m: 0.9894 - precision_m: 0.5399 - f1_m: 0.6727 - val_loss: 0.7027 - val_accuracy: 0.6429 - val_recall_m: 0.9091 - val_precision_m: 0.5455 - val_f1_m: 0.6528\n",
            "Epoch 19/100\n",
            "94/94 [==============================] - 4s 40ms/step - loss: 0.5874 - accuracy: 0.6845 - recall_m: 0.9787 - precision_m: 0.5399 - f1_m: 0.6739 - val_loss: 0.7021 - val_accuracy: 0.7381 - val_recall_m: 0.9091 - val_precision_m: 0.5455 - val_f1_m: 0.6528\n",
            "Epoch 20/100\n",
            "94/94 [==============================] - 4s 41ms/step - loss: 0.5089 - accuracy: 0.7326 - recall_m: 0.9468 - precision_m: 0.5426 - f1_m: 0.6644 - val_loss: 0.7611 - val_accuracy: 0.6667 - val_recall_m: 0.9091 - val_precision_m: 0.5455 - val_f1_m: 0.6528\n",
            "Epoch 21/100\n",
            "94/94 [==============================] - 4s 40ms/step - loss: 0.5438 - accuracy: 0.7086 - recall_m: 0.9574 - precision_m: 0.5399 - f1_m: 0.6663 - val_loss: 0.6745 - val_accuracy: 0.7143 - val_recall_m: 0.9091 - val_precision_m: 0.5455 - val_f1_m: 0.6528\n",
            "Epoch 22/100\n",
            "94/94 [==============================] - 4s 44ms/step - loss: 0.5018 - accuracy: 0.7433 - recall_m: 0.9468 - precision_m: 0.5426 - f1_m: 0.6618 - val_loss: 0.6670 - val_accuracy: 0.7143 - val_recall_m: 0.9091 - val_precision_m: 0.5455 - val_f1_m: 0.6528\n",
            "Epoch 23/100\n",
            "94/94 [==============================] - 4s 39ms/step - loss: 0.4542 - accuracy: 0.7861 - recall_m: 0.9681 - precision_m: 0.5399 - f1_m: 0.6706 - val_loss: 0.7738 - val_accuracy: 0.6905 - val_recall_m: 0.9091 - val_precision_m: 0.5455 - val_f1_m: 0.6528\n",
            "Epoch 24/100\n",
            "94/94 [==============================] - 4s 40ms/step - loss: 0.5866 - accuracy: 0.6925 - recall_m: 0.9468 - precision_m: 0.5399 - f1_m: 0.6670 - val_loss: 0.6079 - val_accuracy: 0.6905 - val_recall_m: 0.9091 - val_precision_m: 0.5455 - val_f1_m: 0.6528\n",
            "Epoch 25/100\n",
            "94/94 [==============================] - 4s 43ms/step - loss: 0.4603 - accuracy: 0.7620 - recall_m: 0.9468 - precision_m: 0.5372 - f1_m: 0.6546 - val_loss: 0.6294 - val_accuracy: 0.7619 - val_recall_m: 0.9091 - val_precision_m: 0.5455 - val_f1_m: 0.6528\n",
            "Epoch 26/100\n",
            "94/94 [==============================] - 4s 40ms/step - loss: 0.4993 - accuracy: 0.7353 - recall_m: 0.9362 - precision_m: 0.5399 - f1_m: 0.6628 - val_loss: 0.7116 - val_accuracy: 0.7143 - val_recall_m: 0.9091 - val_precision_m: 0.5455 - val_f1_m: 0.6528\n",
            "Epoch 27/100\n",
            "94/94 [==============================] - 4s 43ms/step - loss: 0.5253 - accuracy: 0.7353 - recall_m: 0.9362 - precision_m: 0.5372 - f1_m: 0.6609 - val_loss: 0.6203 - val_accuracy: 0.6905 - val_recall_m: 0.9091 - val_precision_m: 0.5455 - val_f1_m: 0.6528\n",
            "Epoch 28/100\n",
            "94/94 [==============================] - 4s 40ms/step - loss: 0.4419 - accuracy: 0.7834 - recall_m: 0.9574 - precision_m: 0.5399 - f1_m: 0.6646 - val_loss: 0.5720 - val_accuracy: 0.7143 - val_recall_m: 0.9091 - val_precision_m: 0.5455 - val_f1_m: 0.6528\n",
            "Epoch 29/100\n",
            "94/94 [==============================] - 4s 39ms/step - loss: 0.4676 - accuracy: 0.7674 - recall_m: 0.9574 - precision_m: 0.5399 - f1_m: 0.6630 - val_loss: 0.5380 - val_accuracy: 0.7857 - val_recall_m: 0.9091 - val_precision_m: 0.5455 - val_f1_m: 0.6528\n",
            "Epoch 30/100\n",
            "94/94 [==============================] - 4s 42ms/step - loss: 0.3705 - accuracy: 0.8316 - recall_m: 0.9574 - precision_m: 0.5399 - f1_m: 0.6628 - val_loss: 0.5729 - val_accuracy: 0.7857 - val_recall_m: 0.9091 - val_precision_m: 0.5455 - val_f1_m: 0.6528\n",
            "Epoch 31/100\n",
            "94/94 [==============================] - 4s 39ms/step - loss: 0.3527 - accuracy: 0.8396 - recall_m: 0.9468 - precision_m: 0.5399 - f1_m: 0.6590 - val_loss: 0.4727 - val_accuracy: 0.8571 - val_recall_m: 0.9091 - val_precision_m: 0.5455 - val_f1_m: 0.6528\n",
            "Epoch 32/100\n",
            "94/94 [==============================] - 4s 41ms/step - loss: 0.3079 - accuracy: 0.8583 - recall_m: 0.9362 - precision_m: 0.5372 - f1_m: 0.6608 - val_loss: 0.5208 - val_accuracy: 0.7857 - val_recall_m: 0.9091 - val_precision_m: 0.5455 - val_f1_m: 0.6528\n",
            "Epoch 33/100\n",
            "94/94 [==============================] - 4s 43ms/step - loss: 0.2931 - accuracy: 0.8743 - recall_m: 0.9681 - precision_m: 0.5399 - f1_m: 0.6647 - val_loss: 0.5743 - val_accuracy: 0.8333 - val_recall_m: 0.9091 - val_precision_m: 0.5455 - val_f1_m: 0.6528\n",
            "Epoch 34/100\n",
            "94/94 [==============================] - 4s 41ms/step - loss: 0.2553 - accuracy: 0.8850 - recall_m: 0.9362 - precision_m: 0.5399 - f1_m: 0.6581 - val_loss: 0.6553 - val_accuracy: 0.8333 - val_recall_m: 0.9091 - val_precision_m: 0.5455 - val_f1_m: 0.6528\n",
            "Epoch 35/100\n",
            "94/94 [==============================] - 4s 39ms/step - loss: 0.2682 - accuracy: 0.8797 - recall_m: 0.9681 - precision_m: 0.5399 - f1_m: 0.6589 - val_loss: 0.6118 - val_accuracy: 0.8095 - val_recall_m: 0.9091 - val_precision_m: 0.5455 - val_f1_m: 0.6528\n",
            "Epoch 36/100\n",
            "94/94 [==============================] - 4s 39ms/step - loss: 0.2806 - accuracy: 0.8717 - recall_m: 0.9681 - precision_m: 0.5399 - f1_m: 0.6664 - val_loss: 0.8859 - val_accuracy: 0.7143 - val_recall_m: 0.9091 - val_precision_m: 0.5455 - val_f1_m: 0.6528\n",
            "Epoch 37/100\n",
            "94/94 [==============================] - 4s 39ms/step - loss: 0.4299 - accuracy: 0.8182 - recall_m: 0.9468 - precision_m: 0.5399 - f1_m: 0.6662 - val_loss: 0.4835 - val_accuracy: 0.7619 - val_recall_m: 0.9091 - val_precision_m: 0.5455 - val_f1_m: 0.6528\n",
            "Epoch 38/100\n",
            "94/94 [==============================] - 4s 43ms/step - loss: 0.3475 - accuracy: 0.8583 - recall_m: 0.9574 - precision_m: 0.5399 - f1_m: 0.6665 - val_loss: 0.4790 - val_accuracy: 0.7619 - val_recall_m: 0.9091 - val_precision_m: 0.5455 - val_f1_m: 0.6528\n",
            "Epoch 39/100\n",
            "94/94 [==============================] - 4s 39ms/step - loss: 0.3754 - accuracy: 0.8155 - recall_m: 0.9787 - precision_m: 0.5399 - f1_m: 0.6691 - val_loss: 0.8185 - val_accuracy: 0.6429 - val_recall_m: 0.9091 - val_precision_m: 0.5455 - val_f1_m: 0.6528\n",
            "Epoch 40/100\n",
            "94/94 [==============================] - 4s 40ms/step - loss: 0.4171 - accuracy: 0.8075 - recall_m: 0.9787 - precision_m: 0.5372 - f1_m: 0.6689 - val_loss: 0.6459 - val_accuracy: 0.7619 - val_recall_m: 0.9091 - val_precision_m: 0.5455 - val_f1_m: 0.6528\n",
            "Epoch 41/100\n",
            "94/94 [==============================] - 4s 43ms/step - loss: 0.3331 - accuracy: 0.8449 - recall_m: 0.9468 - precision_m: 0.5399 - f1_m: 0.6652 - val_loss: 0.6787 - val_accuracy: 0.7381 - val_recall_m: 0.9091 - val_precision_m: 0.5455 - val_f1_m: 0.6528\n",
            "Epoch 42/100\n",
            "94/94 [==============================] - 4s 39ms/step - loss: 0.2870 - accuracy: 0.8743 - recall_m: 0.9255 - precision_m: 0.5372 - f1_m: 0.6557 - val_loss: 0.6991 - val_accuracy: 0.7857 - val_recall_m: 0.9091 - val_precision_m: 0.5455 - val_f1_m: 0.6528\n",
            "Epoch 43/100\n",
            "94/94 [==============================] - 4s 39ms/step - loss: 0.4621 - accuracy: 0.7888 - recall_m: 0.9468 - precision_m: 0.5372 - f1_m: 0.6548 - val_loss: 0.4890 - val_accuracy: 0.8095 - val_recall_m: 0.9091 - val_precision_m: 0.5455 - val_f1_m: 0.6528\n",
            "Epoch 44/100\n",
            "94/94 [==============================] - 4s 43ms/step - loss: 0.3796 - accuracy: 0.8529 - recall_m: 0.9574 - precision_m: 0.5399 - f1_m: 0.6679 - val_loss: 0.4707 - val_accuracy: 0.8333 - val_recall_m: 0.9091 - val_precision_m: 0.5455 - val_f1_m: 0.6528\n",
            "Epoch 45/100\n",
            "94/94 [==============================] - 4s 40ms/step - loss: 0.3406 - accuracy: 0.8503 - recall_m: 0.9468 - precision_m: 0.5399 - f1_m: 0.6585 - val_loss: 0.5408 - val_accuracy: 0.8095 - val_recall_m: 0.9091 - val_precision_m: 0.5455 - val_f1_m: 0.6528\n",
            "Epoch 46/100\n",
            "94/94 [==============================] - 4s 43ms/step - loss: 0.3597 - accuracy: 0.8449 - recall_m: 0.9468 - precision_m: 0.5399 - f1_m: 0.6639 - val_loss: 0.5712 - val_accuracy: 0.7857 - val_recall_m: 0.9091 - val_precision_m: 0.5455 - val_f1_m: 0.6528\n",
            "Epoch 47/100\n",
            "94/94 [==============================] - 4s 40ms/step - loss: 0.2911 - accuracy: 0.8824 - recall_m: 0.9255 - precision_m: 0.5399 - f1_m: 0.6591 - val_loss: 0.4641 - val_accuracy: 0.8095 - val_recall_m: 0.9091 - val_precision_m: 0.5455 - val_f1_m: 0.6528\n",
            "Epoch 48/100\n",
            "94/94 [==============================] - 4s 39ms/step - loss: 0.2683 - accuracy: 0.8904 - recall_m: 0.9574 - precision_m: 0.5399 - f1_m: 0.6690 - val_loss: 0.6041 - val_accuracy: 0.7619 - val_recall_m: 0.9091 - val_precision_m: 0.5455 - val_f1_m: 0.6528\n",
            "Epoch 49/100\n",
            "94/94 [==============================] - 4s 42ms/step - loss: 0.2639 - accuracy: 0.8877 - recall_m: 0.9468 - precision_m: 0.5372 - f1_m: 0.6635 - val_loss: 0.6432 - val_accuracy: 0.7857 - val_recall_m: 0.9091 - val_precision_m: 0.5455 - val_f1_m: 0.6528\n",
            "Epoch 50/100\n",
            "94/94 [==============================] - 4s 41ms/step - loss: 0.2603 - accuracy: 0.8850 - recall_m: 0.9574 - precision_m: 0.5399 - f1_m: 0.6668 - val_loss: 0.5400 - val_accuracy: 0.8095 - val_recall_m: 0.9091 - val_precision_m: 0.5455 - val_f1_m: 0.6528\n",
            "Epoch 51/100\n",
            "94/94 [==============================] - 4s 40ms/step - loss: 0.2144 - accuracy: 0.8984 - recall_m: 0.9574 - precision_m: 0.5399 - f1_m: 0.6609 - val_loss: 0.5348 - val_accuracy: 0.8095 - val_recall_m: 0.9091 - val_precision_m: 0.5455 - val_f1_m: 0.6528\n",
            "Epoch 52/100\n",
            "94/94 [==============================] - 4s 39ms/step - loss: 0.1922 - accuracy: 0.9091 - recall_m: 0.9681 - precision_m: 0.5426 - f1_m: 0.6710 - val_loss: 0.5744 - val_accuracy: 0.7857 - val_recall_m: 0.9091 - val_precision_m: 0.5455 - val_f1_m: 0.6528\n",
            "Epoch 53/100\n",
            "94/94 [==============================] - 4s 39ms/step - loss: 0.1767 - accuracy: 0.9171 - recall_m: 0.9468 - precision_m: 0.5399 - f1_m: 0.6580 - val_loss: 0.4459 - val_accuracy: 0.8333 - val_recall_m: 0.9091 - val_precision_m: 0.5455 - val_f1_m: 0.6528\n",
            "Epoch 54/100\n",
            "94/94 [==============================] - 4s 44ms/step - loss: 0.1946 - accuracy: 0.9118 - recall_m: 0.9149 - precision_m: 0.5372 - f1_m: 0.6514 - val_loss: 0.7029 - val_accuracy: 0.8095 - val_recall_m: 0.9091 - val_precision_m: 0.5455 - val_f1_m: 0.6528\n",
            "Epoch 55/100\n",
            "94/94 [==============================] - 4s 39ms/step - loss: 0.3031 - accuracy: 0.8583 - recall_m: 0.9255 - precision_m: 0.5426 - f1_m: 0.6601 - val_loss: 0.7295 - val_accuracy: 0.6905 - val_recall_m: 0.9091 - val_precision_m: 0.5455 - val_f1_m: 0.6528\n",
            "Epoch 56/100\n",
            "94/94 [==============================] - 4s 39ms/step - loss: 0.2491 - accuracy: 0.8743 - recall_m: 0.9681 - precision_m: 0.5399 - f1_m: 0.6711 - val_loss: 0.5470 - val_accuracy: 0.8095 - val_recall_m: 0.9091 - val_precision_m: 0.5455 - val_f1_m: 0.6528\n",
            "Epoch 57/100\n",
            "94/94 [==============================] - 4s 40ms/step - loss: 0.2891 - accuracy: 0.8743 - recall_m: 0.9574 - precision_m: 0.5399 - f1_m: 0.6658 - val_loss: 0.7019 - val_accuracy: 0.7619 - val_recall_m: 0.9091 - val_precision_m: 0.5455 - val_f1_m: 0.6528\n",
            "Epoch 58/100\n",
            "94/94 [==============================] - 4s 40ms/step - loss: 0.2454 - accuracy: 0.9144 - recall_m: 0.9362 - precision_m: 0.5426 - f1_m: 0.6665 - val_loss: 0.5413 - val_accuracy: 0.7619 - val_recall_m: 0.9091 - val_precision_m: 0.5455 - val_f1_m: 0.6528\n",
            "Epoch 59/100\n",
            "94/94 [==============================] - 4s 39ms/step - loss: 0.2447 - accuracy: 0.9118 - recall_m: 0.9574 - precision_m: 0.5399 - f1_m: 0.6620 - val_loss: 0.5861 - val_accuracy: 0.6905 - val_recall_m: 0.9091 - val_precision_m: 0.5455 - val_f1_m: 0.6528\n",
            "Epoch 60/100\n",
            "94/94 [==============================] - 4s 41ms/step - loss: 0.1875 - accuracy: 0.9225 - recall_m: 0.9362 - precision_m: 0.5399 - f1_m: 0.6579 - val_loss: 0.5519 - val_accuracy: 0.7619 - val_recall_m: 0.9091 - val_precision_m: 0.5455 - val_f1_m: 0.6528\n",
            "Epoch 61/100\n",
            "94/94 [==============================] - 4s 39ms/step - loss: 0.1501 - accuracy: 0.9385 - recall_m: 0.9681 - precision_m: 0.5399 - f1_m: 0.6655 - val_loss: 0.4047 - val_accuracy: 0.8810 - val_recall_m: 0.9091 - val_precision_m: 0.5455 - val_f1_m: 0.6528\n",
            "Epoch 62/100\n",
            "94/94 [==============================] - 4s 44ms/step - loss: 0.1285 - accuracy: 0.9358 - recall_m: 0.9681 - precision_m: 0.5399 - f1_m: 0.6698 - val_loss: 0.5456 - val_accuracy: 0.8333 - val_recall_m: 0.9091 - val_precision_m: 0.5455 - val_f1_m: 0.6528\n",
            "Epoch 63/100\n",
            "94/94 [==============================] - 4s 41ms/step - loss: 0.1161 - accuracy: 0.9492 - recall_m: 0.9468 - precision_m: 0.5399 - f1_m: 0.6648 - val_loss: 0.5261 - val_accuracy: 0.8095 - val_recall_m: 0.9091 - val_precision_m: 0.5455 - val_f1_m: 0.6528\n",
            "Epoch 64/100\n",
            "94/94 [==============================] - 4s 39ms/step - loss: 0.1371 - accuracy: 0.9465 - recall_m: 0.9362 - precision_m: 0.5399 - f1_m: 0.6638 - val_loss: 0.5747 - val_accuracy: 0.7857 - val_recall_m: 0.9091 - val_precision_m: 0.5455 - val_f1_m: 0.6528\n",
            "Epoch 65/100\n",
            "94/94 [==============================] - 4s 43ms/step - loss: 0.1487 - accuracy: 0.9385 - recall_m: 0.9362 - precision_m: 0.5372 - f1_m: 0.6575 - val_loss: 0.4620 - val_accuracy: 0.8333 - val_recall_m: 0.9091 - val_precision_m: 0.5455 - val_f1_m: 0.6528\n",
            "Epoch 66/100\n",
            "94/94 [==============================] - 4s 39ms/step - loss: 0.1413 - accuracy: 0.9305 - recall_m: 0.9468 - precision_m: 0.5399 - f1_m: 0.6647 - val_loss: 0.3520 - val_accuracy: 0.9048 - val_recall_m: 0.9091 - val_precision_m: 0.5455 - val_f1_m: 0.6528\n",
            "Epoch 67/100\n",
            "94/94 [==============================] - 4s 40ms/step - loss: 0.2731 - accuracy: 0.8930 - recall_m: 0.9574 - precision_m: 0.5399 - f1_m: 0.6638 - val_loss: 0.4691 - val_accuracy: 0.7857 - val_recall_m: 0.9091 - val_precision_m: 0.5455 - val_f1_m: 0.6528\n",
            "Epoch 68/100\n",
            "94/94 [==============================] - 4s 43ms/step - loss: 0.4093 - accuracy: 0.8342 - recall_m: 0.9787 - precision_m: 0.5399 - f1_m: 0.6707 - val_loss: 0.3205 - val_accuracy: 0.8571 - val_recall_m: 0.9091 - val_precision_m: 0.5455 - val_f1_m: 0.6528\n",
            "Epoch 69/100\n",
            "94/94 [==============================] - 4s 39ms/step - loss: 0.2649 - accuracy: 0.8770 - recall_m: 0.9468 - precision_m: 0.5399 - f1_m: 0.6640 - val_loss: 0.3955 - val_accuracy: 0.8095 - val_recall_m: 0.9091 - val_precision_m: 0.5455 - val_f1_m: 0.6528\n",
            "Epoch 70/100\n",
            "94/94 [==============================] - 4s 39ms/step - loss: 0.2400 - accuracy: 0.9091 - recall_m: 0.9681 - precision_m: 0.5426 - f1_m: 0.6663 - val_loss: 0.3972 - val_accuracy: 0.8095 - val_recall_m: 0.9091 - val_precision_m: 0.5455 - val_f1_m: 0.6528\n",
            "Epoch 71/100\n",
            "94/94 [==============================] - 4s 44ms/step - loss: 0.1998 - accuracy: 0.9064 - recall_m: 0.9468 - precision_m: 0.5399 - f1_m: 0.6654 - val_loss: 0.5097 - val_accuracy: 0.8810 - val_recall_m: 0.9091 - val_precision_m: 0.5455 - val_f1_m: 0.6528\n",
            "Epoch 72/100\n",
            "94/94 [==============================] - 4s 39ms/step - loss: 0.1417 - accuracy: 0.9358 - recall_m: 0.9574 - precision_m: 0.5372 - f1_m: 0.6613 - val_loss: 0.5649 - val_accuracy: 0.9048 - val_recall_m: 0.9091 - val_precision_m: 0.5455 - val_f1_m: 0.6528\n",
            "Epoch 73/100\n",
            "94/94 [==============================] - 4s 39ms/step - loss: 0.1738 - accuracy: 0.9198 - recall_m: 0.9681 - precision_m: 0.5399 - f1_m: 0.6637 - val_loss: 0.4967 - val_accuracy: 0.8810 - val_recall_m: 0.9091 - val_precision_m: 0.5455 - val_f1_m: 0.6528\n",
            "Epoch 74/100\n",
            "94/94 [==============================] - 4s 42ms/step - loss: 0.1002 - accuracy: 0.9519 - recall_m: 0.9574 - precision_m: 0.5399 - f1_m: 0.6644 - val_loss: 0.5659 - val_accuracy: 0.8810 - val_recall_m: 0.9091 - val_precision_m: 0.5455 - val_f1_m: 0.6528\n",
            "Epoch 75/100\n",
            "94/94 [==============================] - 4s 39ms/step - loss: 0.0908 - accuracy: 0.9652 - recall_m: 0.9468 - precision_m: 0.5426 - f1_m: 0.6658 - val_loss: 0.6324 - val_accuracy: 0.8571 - val_recall_m: 0.9091 - val_precision_m: 0.5455 - val_f1_m: 0.6528\n",
            "Epoch 76/100\n",
            "94/94 [==============================] - 4s 41ms/step - loss: 0.0992 - accuracy: 0.9599 - recall_m: 0.9574 - precision_m: 0.5372 - f1_m: 0.6738 - val_loss: 0.5674 - val_accuracy: 0.8571 - val_recall_m: 0.9091 - val_precision_m: 0.5455 - val_f1_m: 0.6528\n",
            "Epoch 77/100\n",
            "94/94 [==============================] - 4s 40ms/step - loss: 0.0840 - accuracy: 0.9626 - recall_m: 0.9468 - precision_m: 0.5372 - f1_m: 0.6580 - val_loss: 0.5865 - val_accuracy: 0.8810 - val_recall_m: 0.9091 - val_precision_m: 0.5455 - val_f1_m: 0.6528\n",
            "Epoch 78/100\n",
            "94/94 [==============================] - 4s 41ms/step - loss: 0.0423 - accuracy: 0.9866 - recall_m: 0.9149 - precision_m: 0.5372 - f1_m: 0.6458 - val_loss: 0.6296 - val_accuracy: 0.8810 - val_recall_m: 0.9091 - val_precision_m: 0.5455 - val_f1_m: 0.6528\n",
            "Epoch 79/100\n",
            "94/94 [==============================] - 4s 43ms/step - loss: 0.0481 - accuracy: 0.9893 - recall_m: 0.9574 - precision_m: 0.5399 - f1_m: 0.6655 - val_loss: 0.6256 - val_accuracy: 0.8810 - val_recall_m: 0.9091 - val_precision_m: 0.5455 - val_f1_m: 0.6528\n",
            "Epoch 80/100\n",
            "94/94 [==============================] - 4s 40ms/step - loss: 0.0343 - accuracy: 0.9893 - recall_m: 0.9681 - precision_m: 0.5426 - f1_m: 0.6658 - val_loss: 0.7065 - val_accuracy: 0.8571 - val_recall_m: 0.9091 - val_precision_m: 0.5455 - val_f1_m: 0.6528\n",
            "Epoch 81/100\n",
            "94/94 [==============================] - 4s 39ms/step - loss: 0.0461 - accuracy: 0.9840 - recall_m: 0.9255 - precision_m: 0.5372 - f1_m: 0.6535 - val_loss: 0.7562 - val_accuracy: 0.8810 - val_recall_m: 0.9091 - val_precision_m: 0.5455 - val_f1_m: 0.6528\n",
            "Epoch 82/100\n",
            "94/94 [==============================] - 4s 44ms/step - loss: 0.0253 - accuracy: 0.9866 - recall_m: 0.9574 - precision_m: 0.5426 - f1_m: 0.6686 - val_loss: 0.7199 - val_accuracy: 0.9048 - val_recall_m: 0.9091 - val_precision_m: 0.5455 - val_f1_m: 0.6528\n",
            "Epoch 83/100\n",
            "94/94 [==============================] - 4s 40ms/step - loss: 0.0335 - accuracy: 0.9893 - recall_m: 0.9574 - precision_m: 0.5399 - f1_m: 0.6658 - val_loss: 0.7499 - val_accuracy: 0.8571 - val_recall_m: 0.9091 - val_precision_m: 0.5455 - val_f1_m: 0.6528\n",
            "Epoch 84/100\n",
            "94/94 [==============================] - 4s 38ms/step - loss: 0.0255 - accuracy: 0.9866 - recall_m: 0.9574 - precision_m: 0.5372 - f1_m: 0.6634 - val_loss: 0.7858 - val_accuracy: 0.8571 - val_recall_m: 0.9091 - val_precision_m: 0.5455 - val_f1_m: 0.6528\n",
            "Epoch 85/100\n",
            "94/94 [==============================] - 4s 42ms/step - loss: 0.0246 - accuracy: 0.9893 - recall_m: 0.9681 - precision_m: 0.5426 - f1_m: 0.6737 - val_loss: 0.8070 - val_accuracy: 0.8571 - val_recall_m: 0.9091 - val_precision_m: 0.5455 - val_f1_m: 0.6528\n",
            "Epoch 86/100\n",
            "94/94 [==============================] - 4s 39ms/step - loss: 0.0266 - accuracy: 0.9893 - recall_m: 0.9574 - precision_m: 0.5372 - f1_m: 0.6666 - val_loss: 0.8745 - val_accuracy: 0.8571 - val_recall_m: 0.9091 - val_precision_m: 0.5455 - val_f1_m: 0.6528\n",
            "Epoch 87/100\n",
            "94/94 [==============================] - 4s 40ms/step - loss: 0.0180 - accuracy: 0.9893 - recall_m: 0.9574 - precision_m: 0.5426 - f1_m: 0.6667 - val_loss: 0.8667 - val_accuracy: 0.9048 - val_recall_m: 0.9091 - val_precision_m: 0.5455 - val_f1_m: 0.6528\n",
            "Epoch 88/100\n",
            "94/94 [==============================] - 4s 40ms/step - loss: 0.0230 - accuracy: 0.9893 - recall_m: 0.9362 - precision_m: 0.5372 - f1_m: 0.6579 - val_loss: 0.9206 - val_accuracy: 0.9048 - val_recall_m: 0.9091 - val_precision_m: 0.5455 - val_f1_m: 0.6528\n",
            "Epoch 89/100\n",
            "94/94 [==============================] - 4s 40ms/step - loss: 0.1472 - accuracy: 0.9572 - recall_m: 0.9468 - precision_m: 0.5372 - f1_m: 0.6633 - val_loss: 0.4239 - val_accuracy: 0.9286 - val_recall_m: 0.9091 - val_precision_m: 0.5455 - val_f1_m: 0.6528\n",
            "Epoch 90/100\n",
            "94/94 [==============================] - 4s 43ms/step - loss: 0.1989 - accuracy: 0.9358 - recall_m: 0.9787 - precision_m: 0.5399 - f1_m: 0.6719 - val_loss: 0.5632 - val_accuracy: 0.8810 - val_recall_m: 0.9091 - val_precision_m: 0.5455 - val_f1_m: 0.6528\n",
            "Epoch 91/100\n",
            "94/94 [==============================] - 4s 40ms/step - loss: 0.1721 - accuracy: 0.9198 - recall_m: 0.9787 - precision_m: 0.5399 - f1_m: 0.6712 - val_loss: 0.4010 - val_accuracy: 0.8810 - val_recall_m: 0.9091 - val_precision_m: 0.5455 - val_f1_m: 0.6528\n",
            "Epoch 92/100\n",
            "94/94 [==============================] - 4s 39ms/step - loss: 0.1311 - accuracy: 0.9572 - recall_m: 0.9787 - precision_m: 0.5399 - f1_m: 0.6713 - val_loss: 0.4916 - val_accuracy: 0.9048 - val_recall_m: 0.9091 - val_precision_m: 0.5455 - val_f1_m: 0.6528\n",
            "Epoch 93/100\n",
            "94/94 [==============================] - 4s 44ms/step - loss: 0.0726 - accuracy: 0.9679 - recall_m: 0.9574 - precision_m: 0.5372 - f1_m: 0.6666 - val_loss: 0.5095 - val_accuracy: 0.8810 - val_recall_m: 0.9091 - val_precision_m: 0.5455 - val_f1_m: 0.6528\n",
            "Epoch 94/100\n",
            "94/94 [==============================] - 4s 39ms/step - loss: 0.0636 - accuracy: 0.9759 - recall_m: 0.9468 - precision_m: 0.5399 - f1_m: 0.6619 - val_loss: 0.5222 - val_accuracy: 0.9048 - val_recall_m: 0.9091 - val_precision_m: 0.5455 - val_f1_m: 0.6528\n",
            "Epoch 95/100\n",
            "94/94 [==============================] - 4s 40ms/step - loss: 0.0595 - accuracy: 0.9840 - recall_m: 0.9681 - precision_m: 0.5399 - f1_m: 0.6703 - val_loss: 0.5595 - val_accuracy: 0.8810 - val_recall_m: 0.9091 - val_precision_m: 0.5455 - val_f1_m: 0.6528\n",
            "Epoch 96/100\n",
            "94/94 [==============================] - 4s 41ms/step - loss: 0.1078 - accuracy: 0.9733 - recall_m: 0.9681 - precision_m: 0.5372 - f1_m: 0.6614 - val_loss: 0.6385 - val_accuracy: 0.7857 - val_recall_m: 0.9091 - val_precision_m: 0.5455 - val_f1_m: 0.6528\n",
            "Epoch 97/100\n",
            "94/94 [==============================] - 4s 39ms/step - loss: 0.1222 - accuracy: 0.9599 - recall_m: 0.9574 - precision_m: 0.5372 - f1_m: 0.6631 - val_loss: 0.5989 - val_accuracy: 0.8333 - val_recall_m: 0.9091 - val_precision_m: 0.5455 - val_f1_m: 0.6528\n",
            "Epoch 98/100\n",
            "94/94 [==============================] - 4s 44ms/step - loss: 0.0950 - accuracy: 0.9706 - recall_m: 0.9681 - precision_m: 0.5372 - f1_m: 0.6634 - val_loss: 0.5111 - val_accuracy: 0.8571 - val_recall_m: 0.9091 - val_precision_m: 0.5455 - val_f1_m: 0.6528\n",
            "Epoch 99/100\n",
            "94/94 [==============================] - 4s 40ms/step - loss: 0.0670 - accuracy: 0.9786 - recall_m: 0.9681 - precision_m: 0.5399 - f1_m: 0.6656 - val_loss: 0.4336 - val_accuracy: 0.9286 - val_recall_m: 0.9091 - val_precision_m: 0.5455 - val_f1_m: 0.6528\n",
            "Epoch 100/100\n",
            "94/94 [==============================] - 4s 40ms/step - loss: 0.0911 - accuracy: 0.9733 - recall_m: 0.9255 - precision_m: 0.5399 - f1_m: 0.6612 - val_loss: 0.5941 - val_accuracy: 0.8810 - val_recall_m: 0.9091 - val_precision_m: 0.5455 - val_f1_m: 0.6528\n"
          ]
        },
        {
          "output_type": "display_data",
          "data": {
            "text/plain": [
              "<Figure size 640x480 with 1 Axes>"
            ],
            "image/png": "[encoded data removed]"
          },
          "metadata": {}
        },
        {
          "output_type": "stream",
          "name": "stdout",
          "text": [
            "26/26 [==============================] - 1s 18ms/step - loss: 0.5133 - accuracy: 0.9423 - recall_m: 0.8846 - precision_m: 0.4904 - f1_m: 0.6015\n",
            "Test accuracy: 94.23%\n",
            "Test recall: 88.46%\n",
            "Test precision: 49.04%\n",
            "Test F1: 60.15%\n"
          ]
        }
      ],
      "source": [
        "def recall_m(y_true, y_pred):\n",
        "    true_positives = K.sum(K.round(K.clip(y_true * y_pred, 0, 1)))\n",
        "    possible_positives = K.sum(K.round(K.clip(y_true, 0, 1)))\n",
        "    recall = true_positives / (possible_positives + K.epsilon())\n",
        "    return recall\n",
        "\n",
        "def precision_m(y_true, y_pred):\n",
        "    true_positives = K.sum(K.round(K.clip(y_true * y_pred, 0, 1)))\n",
        "    predicted_positives = K.sum(K.round(K.clip(y_pred, 0, 1)))\n",
        "    precision = true_positives / (predicted_positives + K.epsilon())\n",
        "    return precision\n",
        "\n",
        "def f1_m(y_true, y_pred):\n",
        "    precision = precision_m(y_true, y_pred)\n",
        "    recall = recall_m(y_true, y_pred)\n",
        "    return 2*((precision*recall)/(precision+recall+K.epsilon()))\n",
        "\n",
        "def run_experiment():\n",
        "    # Initialize model\n",
        "    model = create_vivit_classifier(\n",
        "        tubelet_embedder=TubeletEmbedding(\n",
        "            embed_dim=PROJECTION_DIM, patch_size=PATCH_SIZE\n",
        "        ),\n",
        "        positional_encoder=PositionalEncoder(embed_dim=PROJECTION_DIM),\n",
        "    )\n",
        "\n",
        "    # Compile the model with the optimizer, loss function\n",
        "    # and the metrics.\n",
        "    optimizer = keras.optimizers.Adam(learning_rate=LEARNING_RATE)\n",
        "    model.compile(\n",
        "        optimizer=optimizer,\n",
        "        loss=\"sparse_categorical_crossentropy\",\n",
        "        metrics=[\n",
        "            keras.metrics.SparseCategoricalAccuracy(name=\"accuracy\"),\n",
        "            recall_m,\n",
        "            precision_m,\n",
        "            f1_m,\n",
        "        ],\n",
        "    )\n",
        "\n",
        "    # Train the model.\n",
        "    history = model.fit(trainloader, epochs=EPOCHS, validation_data=validloader)\n",
        "    # Plot training accuracy and validation accuracy\n",
        "    plt.plot(history.history['accuracy'], label='Training Accuracy')\n",
        "    plt.plot(history.history['val_accuracy'], label='Validation Accuracy')\n",
        "    plt.xlabel('Epoch')\n",
        "    plt.ylabel('Accuracy')\n",
        "    plt.title('Training and Validation Accuracy')\n",
        "    plt.legend()\n",
        "    plt.show()\n",
        "    _, accuracy, recall, precision, f1 = model.evaluate(testloader)\n",
        "    print(f\"Test accuracy: {round(accuracy * 100, 2)}%\")\n",
        "    print(f\"Test recall: {round(recall * 100, 2)}%\")\n",
        "    print(f\"Test precision: {round(precision * 100, 2)}%\")\n",
        "    print(f\"Test F1: {round(f1 * 100, 2)}%\")\n",
        "\n",
        "    vivit_scores = [accuracy, recall, precision, f1]\n",
        "    return model, vivit_scores\n",
        "\n",
        "\n",
        "model, vivit_scores = run_experiment()\n"
      ]
    },
    {
      "cell_type": "code",
      "execution_count": null,
      "metadata": {
        "colab": {
          "base_uri": "https://localhost:8080/"
        },
        "id": "BYkC8Cgl-QRu",
        "outputId": "be8f3cef-f4f3-4f27-e076-612d39ad477c"
      },
      "outputs": [
        {
          "name": "stdout",
          "output_type": "stream",
          "text": [
            "26/26 [==============================] - 1s 23ms/step\n"
          ]
        }
      ],
      "source": [
        "prediction =model.predict(testloader)"
      ]
    },
    {
      "cell_type": "code",
      "execution_count": null,
      "metadata": {
        "colab": {
          "base_uri": "https://localhost:8080/"
        },
        "id": "IEihd_hK-k87",
        "outputId": "3fc8ce70-d64e-40a9-da6c-40e2c8e8823e"
      },
      "outputs": [
        {
          "name": "stdout",
          "output_type": "stream",
          "text": [
            "26/26 [==============================] - 1s 22ms/step\n"
          ]
        },
        {
          "data": {
            "text/plain": [
              "104"
            ]
          },
          "execution_count": 22,
          "metadata": {},
          "output_type": "execute_result"
        }
      ],
      "source": [
        "len(prediction)\n",
        "y_preds = np.argmax(model.predict(testloader), axis=1)\n",
        "len(y_preds)"
      ]
    },
    {
      "cell_type": "code",
      "execution_count": null,
      "metadata": {
        "id": "LsdaMd8jAScW"
      },
      "outputs": [],
      "source": [
        "for data in testloader:\n",
        "    first_sample = data[0]\n",
        "    second_sample = data[1]\n",
        "    break"
      ]
    },
    {
      "cell_type": "code",
      "execution_count": null,
      "metadata": {
        "colab": {
          "base_uri": "https://localhost:8080/"
        },
        "id": "3qkQlMiMASZ9",
        "outputId": "a48876c2-1fa8-40d0-e402-f5da1efff2b6"
      },
      "outputs": [
        {
          "name": "stdout",
          "output_type": "stream",
          "text": [
            "1/1 [==============================] - 0s 62ms/step\n"
          ]
        }
      ],
      "source": [
        "prediction =model.predict(first_sample)"
      ]
    },
    {
      "cell_type": "code",
      "execution_count": null,
      "metadata": {
        "id": "fBLBFx8IASXp"
      },
      "outputs": [],
      "source": [
        "y_preds = np.argmax(prediction, axis=1)"
      ]
    },
    {
      "cell_type": "code",
      "execution_count": null,
      "metadata": {
        "colab": {
          "base_uri": "https://localhost:8080/"
        },
        "id": "XRVep_BnASVA",
        "outputId": "8479ea3c-8218-430e-9716-3117ecd12488"
      },
      "outputs": [
        {
          "data": {
            "text/plain": [
              "1.0"
            ]
          },
          "execution_count": 35,
          "metadata": {},
          "output_type": "execute_result"
        }
      ],
      "source": [
        "y_test[3]"
      ]
    },
    {
      "cell_type": "code",
      "execution_count": null,
      "metadata": {
        "colab": {
          "base_uri": "https://localhost:8080/"
        },
        "id": "tt6YWptpASSZ",
        "outputId": "4e862364-c214-4794-a8f8-18fe7531c425"
      },
      "outputs": [
        {
          "data": {
            "text/plain": [
              "array([0, 0, 1, 1])"
            ]
          },
          "execution_count": 32,
          "metadata": {},
          "output_type": "execute_result"
        }
      ],
      "source": [
        "y_preds"
      ]
    },
    {
      "cell_type": "code",
      "execution_count": null,
      "metadata": {
        "id": "098Eig4eASIj"
      },
      "outputs": [],
      "source": []
    },
    {
      "cell_type": "code",
      "execution_count": null,
      "metadata": {
        "colab": {
          "base_uri": "https://localhost:8080/",
          "height": 547
        },
        "id": "-79EQqGR4JjQ",
        "outputId": "02384059-bb7e-4818-d00d-be571a2b7b94"
      },
      "outputs": [
        {
          "output_type": "stream",
          "name": "stdout",
          "text": [
            "26/26 [==============================] - 1s 17ms/step\n"
          ]
        },
        {
          "output_type": "display_data",
          "data": {
            "text/plain": [
              "<Figure size 640x480 with 2 Axes>"
            ],
            "image/png": "[encoded data removed]"
          },
          "metadata": {}
        }
      ],
      "source": [
        "y_preds = np.argmax(model.predict(testloader), axis=1)\n",
        "#Generate the confusion matrix\n",
        "cf_matrix = confusion_matrix(y_test, y_preds)\n",
        "\n",
        "ax = sns.heatmap(cf_matrix, annot=True, cmap='Blues')\n",
        "\n",
        "ax.set_title('Seaborn Confusion Matrix with labels\\n\\n');\n",
        "ax.set_xlabel('\\nPredicted Values')\n",
        "ax.set_ylabel('Actual Values ');\n",
        "\n",
        "## Ticket labels - List must be in alphabetical order\n",
        "ax.xaxis.set_ticklabels(['False','True'])\n",
        "ax.yaxis.set_ticklabels(['False','True'])\n",
        "\n",
        "## Display the visualization of the Confusion Matrix.\n",
        "plt.show()\n",
        "ax.figure.savefig(\"vivit_cf.png\")"
      ]
    },
    {
      "cell_type": "code",
      "execution_count": null,
      "metadata": {
        "id": "eQEteMN4FAq5"
      },
      "outputs": [],
      "source": []
    }
  ],
  "metadata": {
    "accelerator": "GPU",
    "colab": {
      "gpuType": "T4",
      "provenance": []
    },
    "kernelspec": {
      "display_name": "Python 3",
      "name": "python3"
    },
    "language_info": {
      "name": "python"
    }
  },
  "nbformat": 4,
  "nbformat_minor": 0
}